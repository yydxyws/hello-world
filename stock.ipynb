{
 "cells": [
  {
   "cell_type": "code",
   "execution_count": 1,
   "metadata": {},
   "outputs": [
    {
     "name": "stdout",
     "output_type": "stream",
     "text": [
      "hello world!\n"
     ]
    }
   ],
   "source": [
    "print('hello world!')"
   ]
  },
  {
   "cell_type": "code",
   "execution_count": 2,
   "metadata": {},
   "outputs": [],
   "source": [
    "import pymysql\n",
    "connection = pymysql.connect(host='localhost',\n",
    "                             port=3306,\n",
    "                             user='root',\n",
    "                             password='root',\n",
    "                             db='shop',\n",
    "                             charset='utf8')"
   ]
  },
  {
   "cell_type": "code",
   "execution_count": 3,
   "metadata": {},
   "outputs": [],
   "source": [
    "cursor = connection.cursor()"
   ]
  },
  {
   "cell_type": "code",
   "execution_count": 4,
   "metadata": {},
   "outputs": [
    {
     "name": "stdout",
     "output_type": "stream",
     "text": [
      "(1000000, 100010, 100, '毛台', Decimal('400.00'), '贵酒集团', Decimal('200.00'), 10000, datetime.datetime(2023, 2, 12, 19, 56, 9))\n"
     ]
    }
   ],
   "source": [
    "sqlsearch = \"select * from 库存信息表\"\n",
    "cursor.execute(sqlsearch)\n",
    "ressearch = cursor.fetchall()\n",
    "for i in ressearch:\n",
    "    print(i)"
   ]
  },
  {
   "cell_type": "code",
   "execution_count": 5,
   "metadata": {},
   "outputs": [
    {
     "data": {
      "text/plain": [
       "1"
      ]
     },
     "execution_count": 5,
     "metadata": {},
     "output_type": "execute_result"
    }
   ],
   "source": [
    "#CREATE PROCEDURE 入库(库存编号参数,商品编号参数,销售商参数,名称参数,价格参数,库存数量参数,进价参数,雇员编号参数\n",
    "sqlstock1 = \"call 入库(null,100010,'贵酒集团','毛台',400,200,200,10000)\"\n",
    "cursor.execute(sqlstock1)\n",
    "sqlstock2 = \"call 入库(null,200014,'饼干','轻食',5.5,400,3.5,10001)\"\n",
    "cursor.execute(sqlstock2)"
   ]
  },
  {
   "cell_type": "code",
   "execution_count": 6,
   "metadata": {},
   "outputs": [
    {
     "name": "stdout",
     "output_type": "stream",
     "text": [
      "(1000000, 100010, 300, '毛台', Decimal('400.00'), '贵酒集团', Decimal('200.00'), 10000, datetime.datetime(2023, 2, 12, 19, 56, 9))\n",
      "(1000001, 200014, 400, '轻食', Decimal('5.50'), '饼干', Decimal('3.50'), 10001, datetime.datetime(2023, 2, 12, 20, 6, 30))\n"
     ]
    }
   ],
   "source": [
    "sqlsearch = \"select * from 库存信息表\"\n",
    "cursor.execute(sqlsearch)\n",
    "ressearch = cursor.fetchall()\n",
    "for i in ressearch:\n",
    "    print(i)"
   ]
  },
  {
   "cell_type": "code",
   "execution_count": 7,
   "metadata": {},
   "outputs": [],
   "source": [
    "cursor.close()\n",
    "connection.close()"
   ]
  }
 ],
 "metadata": {
  "kernelspec": {
   "display_name": "Python 3",
   "language": "python",
   "name": "python3"
  },
  "language_info": {
   "codemirror_mode": {
    "name": "ipython",
    "version": 3
   },
   "file_extension": ".py",
   "mimetype": "text/x-python",
   "name": "python",
   "nbconvert_exporter": "python",
   "pygments_lexer": "ipython3",
   "version": "3.9.6"
  },
  "orig_nbformat": 4,
  "vscode": {
   "interpreter": {
    "hash": "31f2aee4e71d21fbe5cf8b01ff0e069b9275f58929596ceb00d14d90e3e16cd6"
   }
  }
 },
 "nbformat": 4,
 "nbformat_minor": 2
}
